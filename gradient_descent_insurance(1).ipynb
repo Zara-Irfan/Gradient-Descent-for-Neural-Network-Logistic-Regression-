{
 "cells": [
  {
   "cell_type": "code",
   "execution_count": null,
   "id": "fad781bd-bbcf-4fb6-8172-99dbbf1ceb6f",
   "metadata": {},
   "outputs": [],
   "source": [
    "# Gradient Descent for Neural Network (Logistic Regression)\n",
    "\n",
    "This notebook demonstrates predicting whether a person would buy life insurance based on their age and affordability.\n",
    "\n",
    "- Binary classification problem: 1 → buys insurance, 0 → does not buy.\n",
    "- Using TensorFlow 2.0, Keras, Python, and supporting libraries.\n",
    "- Includes gradient descent optimization and logistic regression."
   ]
  },
  {
   "cell_type": "code",
   "execution_count": 18,
   "id": "a8edcdf6-f34e-4622-9ca9-01aaf7b49935",
   "metadata": {},
   "outputs": [],
   "source": [
    "import numpy as np\n",
    "import pandas as pd\n",
    "from matplotlib import pyplot as plt\n",
    "from sklearn.model_selection import train_test_split\n",
    "from tensorflow.keras.models import Sequential\n",
    "from tensorflow.keras.layers import Dense\n",
    "from tensorflow.keras.optimizers import Adam\n",
    "\n",
    "%matplotlib inline"
   ]
  },
  {
   "cell_type": "code",
   "execution_count": null,
   "id": "2b4af6df-4526-4631-99b3-6b7a48f7c5db",
   "metadata": {},
   "outputs": [],
   "source": [
    "## Dataset\n",
    "\n",
    "- Load the insurance dataset `insurance_data.csv`.\n",
    "- The dataset has columns: age, affordability, bought_insurance."
   ]
  },
  {
   "cell_type": "code",
   "execution_count": 6,
   "id": "249ab64b-57ca-4bf7-88e8-e9efe0c9854d",
   "metadata": {},
   "outputs": [
    {
     "data": {
      "text/html": [
       "<div>\n",
       "<style scoped>\n",
       "    .dataframe tbody tr th:only-of-type {\n",
       "        vertical-align: middle;\n",
       "    }\n",
       "\n",
       "    .dataframe tbody tr th {\n",
       "        vertical-align: top;\n",
       "    }\n",
       "\n",
       "    .dataframe thead th {\n",
       "        text-align: right;\n",
       "    }\n",
       "</style>\n",
       "<table border=\"1\" class=\"dataframe\">\n",
       "  <thead>\n",
       "    <tr style=\"text-align: right;\">\n",
       "      <th></th>\n",
       "      <th>age</th>\n",
       "      <th>affordibility</th>\n",
       "      <th>bought_insurance</th>\n",
       "    </tr>\n",
       "  </thead>\n",
       "  <tbody>\n",
       "    <tr>\n",
       "      <th>0</th>\n",
       "      <td>22</td>\n",
       "      <td>1</td>\n",
       "      <td>0</td>\n",
       "    </tr>\n",
       "    <tr>\n",
       "      <th>1</th>\n",
       "      <td>25</td>\n",
       "      <td>0</td>\n",
       "      <td>0</td>\n",
       "    </tr>\n",
       "    <tr>\n",
       "      <th>2</th>\n",
       "      <td>47</td>\n",
       "      <td>1</td>\n",
       "      <td>1</td>\n",
       "    </tr>\n",
       "    <tr>\n",
       "      <th>3</th>\n",
       "      <td>52</td>\n",
       "      <td>0</td>\n",
       "      <td>0</td>\n",
       "    </tr>\n",
       "    <tr>\n",
       "      <th>4</th>\n",
       "      <td>46</td>\n",
       "      <td>1</td>\n",
       "      <td>1</td>\n",
       "    </tr>\n",
       "  </tbody>\n",
       "</table>\n",
       "</div>"
      ],
      "text/plain": [
       "   age  affordibility  bought_insurance\n",
       "0   22              1                 0\n",
       "1   25              0                 0\n",
       "2   47              1                 1\n",
       "3   52              0                 0\n",
       "4   46              1                 1"
      ]
     },
     "execution_count": 6,
     "metadata": {},
     "output_type": "execute_result"
    }
   ],
   "source": [
    "df = pd.read_csv(\"/home/muhammad/Desktop/insurance_data.csv\")\n",
    "df.head()"
   ]
  },
  {
   "cell_type": "code",
   "execution_count": null,
   "id": "23705a3b-2e3f-438b-b2e4-8e6833a6008c",
   "metadata": {},
   "outputs": [],
   "source": [
    "## Data Preprocessing\n",
    "\n",
    "- Split dataset into features (`age`, `affordibility`) and target (`bought_insurance`).\n",
    "- Split into training and test sets.\n",
    "- Scale `age` feature for better model performance.\n",
    "- Use a small subset for training to avoid freezing in GitHub preview."
   ]
  },
  {
   "cell_type": "code",
   "execution_count": 20,
   "id": "d6a07d7b-0b2d-44e5-b171-d57acdf9e31a",
   "metadata": {},
   "outputs": [],
   "source": [
    "# Features and target\n",
    "X = df[['age', 'affordibility']]\n",
    "y = df['bought_insurance']\n",
    "\n",
    "# Train-test split\n",
    "X_train, X_test, y_train, y_test = train_test_split(X, y, test_size=0.2, random_state=25)\n",
    "\n",
    "# Scale age\n",
    "X_train_scaled = X_train.copy()\n",
    "X_train_scaled['age'] = X_train_scaled['age'] / 100\n",
    "\n",
    "X_test_scaled = X_test.copy()\n",
    "X_test_scaled['age'] = X_test_scaled['age'] / 100\n",
    "\n",
    "# Small subset for GitHub preview\n",
    "X_train_small = X_train_scaled[:20]\n",
    "y_train_small = y_train[:20]\n",
    "X_test_small = X_test_scaled[:10]\n",
    "y_test_small = y_test[:10]"
   ]
  },
  {
   "cell_type": "code",
   "execution_count": null,
   "id": "af650a8a-2791-4d9f-a8d4-30e052e245f6",
   "metadata": {},
   "outputs": [],
   "source": [
    "## Model Definition\n",
    "\n",
    "- Simple neural network (logistic regression) with one output neuron and sigmoid activation.\n",
    "- Compile with Adam optimizer and binary crossentropy loss."
   ]
  },
  {
   "cell_type": "code",
   "execution_count": 21,
   "id": "e73139bb-23b6-4d54-9cc0-2aeb3cfd5dd7",
   "metadata": {},
   "outputs": [
    {
     "name": "stderr",
     "output_type": "stream",
     "text": [
      "/home/muhammad/.local/lib/python3.10/site-packages/keras/src/layers/core/dense.py:87: UserWarning: Do not pass an `input_shape`/`input_dim` argument to a layer. When using Sequential models, prefer using an `Input(shape)` object as the first layer in the model instead.\n",
      "  super().__init__(activity_regularizer=activity_regularizer, **kwargs)\n"
     ]
    }
   ],
   "source": [
    "model = Sequential([\n",
    "    Dense(1, activation='sigmoid', input_shape=(2,))\n",
    "])\n",
    "\n",
    "model.compile(optimizer=Adam(learning_rate=0.01),\n",
    "              loss='binary_crossentropy',\n",
    "              metrics=['accuracy'])"
   ]
  },
  {
   "cell_type": "code",
   "execution_count": null,
   "id": "f9bafa4d-0848-473f-8c01-fd1a392b8859",
   "metadata": {},
   "outputs": [],
   "source": [
    "## Model Training\n",
    "\n",
    "- Train on a small subset to prevent freezing in GitHub preview.\n",
    "- Display training logs for few epochs."
   ]
  },
  {
   "cell_type": "code",
   "execution_count": 23,
   "id": "7fe658c8-89b3-4eff-b5dc-08525cc049ea",
   "metadata": {},
   "outputs": [
    {
     "name": "stdout",
     "output_type": "stream",
     "text": [
      "Epoch 1/5\n",
      "\u001b[1m5/5\u001b[0m \u001b[32m━━━━━━━━━━━━━━━━━━━━\u001b[0m\u001b[37m\u001b[0m \u001b[1m0s\u001b[0m 2ms/step - accuracy: 0.3361 - loss: 0.7727  \n",
      "Epoch 2/5\n",
      "\u001b[1m5/5\u001b[0m \u001b[32m━━━━━━━━━━━━━━━━━━━━\u001b[0m\u001b[37m\u001b[0m \u001b[1m0s\u001b[0m 2ms/step - accuracy: 0.2458 - loss: 0.8424 \n",
      "Epoch 3/5\n",
      "\u001b[1m5/5\u001b[0m \u001b[32m━━━━━━━━━━━━━━━━━━━━\u001b[0m\u001b[37m\u001b[0m \u001b[1m0s\u001b[0m 1ms/step - accuracy: 0.3326 - loss: 0.7613 \n",
      "Epoch 4/5\n",
      "\u001b[1m5/5\u001b[0m \u001b[32m━━━━━━━━━━━━━━━━━━━━\u001b[0m\u001b[37m\u001b[0m \u001b[1m0s\u001b[0m 2ms/step - accuracy: 0.2146 - loss: 0.8401     \n",
      "Epoch 5/5\n",
      "\u001b[1m5/5\u001b[0m \u001b[32m━━━━━━━━━━━━━━━━━━━━\u001b[0m\u001b[37m\u001b[0m \u001b[1m0s\u001b[0m 2ms/step - accuracy: 0.2597 - loss: 0.8137     \n"
     ]
    }
   ],
   "source": [
    "history = model.fit(\n",
    "    X_train_small, y_train_small,\n",
    "    epochs=5,\n",
    "    batch_size=4,\n",
    "    verbose=1\n",
    ")"
   ]
  },
  {
   "cell_type": "code",
   "execution_count": null,
   "id": "f817dcd0-6892-4666-9e18-d181e540682d",
   "metadata": {},
   "outputs": [],
   "source": [
    "## Model Predictions\n",
    "\n",
    "- Predict probabilities for the test subset.\n",
    "- Values closer to 1 → likely to buy insurance, closer to 0 → unlikely."
   ]
  },
  {
   "cell_type": "code",
   "execution_count": 24,
   "id": "93e934a0-5053-480b-81be-6088f9b45d65",
   "metadata": {},
   "outputs": [
    {
     "name": "stdout",
     "output_type": "stream",
     "text": [
      "\u001b[1m1/1\u001b[0m \u001b[32m━━━━━━━━━━━━━━━━━━━━\u001b[0m\u001b[37m\u001b[0m \u001b[1m0s\u001b[0m 25ms/step\n",
      "Predictions (small subset): [[0.40041107]\n",
      " [0.3157528 ]\n",
      " [0.5943067 ]\n",
      " [0.343912  ]\n",
      " [0.40654603]\n",
      " [0.44390666]]\n",
      "Predicted Classes: [[0]\n",
      " [0]\n",
      " [1]\n",
      " [0]\n",
      " [0]\n",
      " [0]]\n"
     ]
    }
   ],
   "source": [
    "predictions = model.predict(X_test_small)\n",
    "print(\"Predictions (small subset):\", predictions)\n",
    "\n",
    "# Convert to class 0 or 1\n",
    "predicted_classes = (predictions > 0.5).astype(int)\n",
    "print(\"Predicted Classes:\", predicted_classes)"
   ]
  },
  {
   "cell_type": "code",
   "execution_count": null,
   "id": "c6ac9fff-b105-4615-b3d2-b9bb97b119ff",
   "metadata": {},
   "outputs": [],
   "source": [
    "## Training Metrics\n",
    "\n",
    "- Plot loss and accuracy to visualize training progress."
   ]
  },
  {
   "cell_type": "code",
   "execution_count": 25,
   "id": "f1df20e6-9f55-4a34-bc7e-3810a1f0aa0c",
   "metadata": {},
   "outputs": [
    {
     "data": {
      "image/png": "[encoded data removed]",
      "text/plain": [
       "<Figure size 640x480 with 1 Axes>"
      ]
     },
     "metadata": {},
     "output_type": "display_data"
    }
   ],
   "source": [
    "plt.plot(history.history['loss'], label='Loss')\n",
    "plt.plot(history.history['accuracy'], label='Accuracy')\n",
    "plt.xlabel('Epochs')\n",
    "plt.ylabel('Value')\n",
    "plt.title('Training Loss and Accuracy')\n",
    "plt.legend()\n",
    "plt.show()"
   ]
  },
  {
   "cell_type": "code",
   "execution_count": null,
   "id": "fc2dba19-f01b-4ddc-bc5a-617bcd7f9ec8",
   "metadata": {},
   "outputs": [],
   "source": []
  }
 ],
 "metadata": {
  "kernelspec": {
   "display_name": "Python 3 (ipykernel)",
   "language": "python",
   "name": "python3"
  },
  "language_info": {
   "codemirror_mode": {
    "name": "ipython",
    "version": 3
   },
   "file_extension": ".py",
   "mimetype": "text/x-python",
   "name": "python",
   "nbconvert_exporter": "python",
   "pygments_lexer": "ipython3",
   "version": "3.10.12"
  }
 },
 "nbformat": 4,
 "nbformat_minor": 5
}
